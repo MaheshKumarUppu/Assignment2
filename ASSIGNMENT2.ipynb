{
 "cells": [
  {
   "cell_type": "markdown",
   "id": "f8e5c181",
   "metadata": {},
   "source": [
    "1"
   ]
  },
  {
   "cell_type": "code",
   "execution_count": 1,
   "id": "97d5090b",
   "metadata": {},
   "outputs": [
    {
     "name": "stdout",
     "output_type": "stream",
     "text": [
      "*\r\n",
      "**\r\n",
      "***\r\n",
      "****\r\n",
      "*****\r\n",
      "****\r\n",
      "***\r\n",
      "**\r\n",
      "*\r\n",
      "\r\n"
     ]
    }
   ],
   "source": [
    "rows = 5\n",
    "for i in range(0,rows):\n",
    "    for j in range(0, i+1):\n",
    "        print(\"*\",end ='')\n",
    "    print(\"\\r\")\n",
    "for i in range(rows,0,-1):\n",
    "    for j in range(0,i-1):\n",
    "        print(\"*\",end ='')\n",
    "    print(\"\\r\")"
   ]
  },
  {
   "cell_type": "markdown",
   "id": "67df6e60",
   "metadata": {},
   "source": [
    "2"
   ]
  },
  {
   "cell_type": "code",
   "execution_count": 2,
   "id": "3d3ec7cd",
   "metadata": {},
   "outputs": [
    {
     "name": "stdout",
     "output_type": "stream",
     "text": [
      "list present in odd indexes\n",
      "20 40 60 80 100 "
     ]
    }
   ],
   "source": [
    "my_list = [10, 20, 30, 40, 50, 60, 70, 80, 90, 100]\n",
    "print(\"list present in odd indexes\")\n",
    "for i in my_list [1::2]:\n",
    "    print(i,end=' ')"
   ]
  },
  {
   "cell_type": "markdown",
   "id": "fc2423e5",
   "metadata": {},
   "source": [
    "3"
   ]
  },
  {
   "cell_type": "code",
   "execution_count": 3,
   "id": "d8ec4227",
   "metadata": {},
   "outputs": [
    {
     "name": "stdout",
     "output_type": "stream",
     "text": [
      "[23, 'Python', 23.98]\n",
      "[<class 'int'>, <class 'str'>, <class 'float'>]\n"
     ]
    }
   ],
   "source": [
    "x = [23, 'Python', 23.98]\n",
    "\n",
    "outx = []\n",
    "for output in range(len(x)):\n",
    "    outx.append(type(x[output]))\n",
    "print(x)\n",
    "print(outx)"
   ]
  },
  {
   "cell_type": "markdown",
   "id": "556d201a",
   "metadata": {},
   "source": [
    "4"
   ]
  },
  {
   "cell_type": "code",
   "execution_count": 4,
   "id": "344d2dcc",
   "metadata": {},
   "outputs": [
    {
     "name": "stdout",
     "output_type": "stream",
     "text": [
      "Unique List [1, 2, 3, 4, 5]\n"
     ]
    }
   ],
   "source": [
    "Sample_List: [1,2,3,3,3,3,4,5]\n",
    "uniquelist = []\n",
    "def unqlist(Sample_List):\n",
    "    for i in Sample_List:\n",
    "        if i not in uniquelist:\n",
    "            uniquelist.append(i)\n",
    "    return uniquelist\n",
    "print(\"Unique List\",unqlist([1,2,3,3,3,3,4,5]))"
   ]
  },
  {
   "cell_type": "markdown",
   "id": "59d70d17",
   "metadata": {},
   "source": [
    "5"
   ]
  },
  {
   "cell_type": "code",
   "execution_count": 5,
   "id": "747bdd6d",
   "metadata": {},
   "outputs": [
    {
     "name": "stdout",
     "output_type": "stream",
     "text": [
      "Input String :  The quick Brow Fox\n",
      "No. of Upper-case characters: 3\n",
      "No. of lower-case characters: 12\n"
     ]
    }
   ],
   "source": [
    "def uplow(string):\n",
    "    ul={\"u_case\":0, \"l_case\":0}\n",
    "    for i in string:\n",
    "        if i.isupper():\n",
    "            ul[\"u_case\"]+=1\n",
    "        elif i.islower():\n",
    "            ul[\"l_case\"]+=1\n",
    "        else:\n",
    "            pass\n",
    "    print(\"Input String : \", string)\n",
    "    print(\"No. of Upper-case characters:\", ul[\"u_case\"])\n",
    "    print(\"No. of lower-case characters:\", ul[\"l_case\"])\n",
    "\n",
    "uplow(\"The quick Brow Fox\")"
   ]
  },
  {
   "cell_type": "code",
   "execution_count": null,
   "id": "fbb15b8e",
   "metadata": {},
   "outputs": [],
   "source": []
  }
 ],
 "metadata": {
  "kernelspec": {
   "display_name": "Python 3 (ipykernel)",
   "language": "python",
   "name": "python3"
  },
  "language_info": {
   "codemirror_mode": {
    "name": "ipython",
    "version": 3
   },
   "file_extension": ".py",
   "mimetype": "text/x-python",
   "name": "python",
   "nbconvert_exporter": "python",
   "pygments_lexer": "ipython3",
   "version": "3.9.13"
  }
 },
 "nbformat": 4,
 "nbformat_minor": 5
}
